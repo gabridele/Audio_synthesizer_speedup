{
 "cells": [
  {
   "cell_type": "code",
   "execution_count": 1,
   "metadata": {},
   "outputs": [
    {
     "name": "stdout",
     "output_type": "stream",
     "text": [
      "Intel MKL WARNING: Support of Intel(R) Streaming SIMD Extensions 4.2 (Intel(R) SSE4.2) enabled only processors has been deprecated. Intel oneAPI Math Kernel Library 2025.0 will require Intel(R) Advanced Vector Extensions (Intel(R) AVX) instructions.\n",
      "Intel MKL WARNING: Support of Intel(R) Streaming SIMD Extensions 4.2 (Intel(R) SSE4.2) enabled only processors has been deprecated. Intel oneAPI Math Kernel Library 2025.0 will require Intel(R) Advanced Vector Extensions (Intel(R) AVX) instructions.\n"
     ]
    }
   ],
   "source": [
    "import pandas as pd\n",
    "from gtts import gTTS\n",
    "import os"
   ]
  },
  {
   "cell_type": "code",
   "execution_count": 14,
   "metadata": {},
   "outputs": [],
   "source": [
    "def excel_to_speech(file_path, column_name, sheet_name, output_folder):\n",
    "    # Load the Excel file into a DataFrame\n",
    "    df = pd.read_excel(file_path, sheet_name=sheet_name)\n",
    "    counter = 0\n",
    "    # Iterate through the sentences in the specified column\n",
    "    for index, row in df.iterrows():\n",
    "        counter += 1\n",
    "        text = str(row.iloc[0])\n",
    "        print(text)\n",
    "        # Passing the text and language\n",
    "        tts = gTTS(text=text, lang='en', tld='us', slow=False)\n",
    "\n",
    "        #name = str(row[df.columns[index]])\n",
    "\n",
    "        # this below strips the .wav format\n",
    "        #name = name.replace('.wav', '')\n",
    "        # names output according to their index basically\n",
    "        # Save the converted audio in a file in mp3 format\n",
    "        output_file = os.path.join(output_folder, f\"{counter}.mp3\")\n",
    "        tts.save(output_file)"
   ]
  },
  {
   "cell_type": "code",
   "execution_count": 26,
   "metadata": {},
   "outputs": [
    {
     "name": "stdout",
     "output_type": "stream",
     "text": [
      "First-order logic is enumerable only if partially recursive.\n",
      "The Goldbach conjecture is infinite and deducible only in a propositional space.\n",
      "The definable subsets of a first-order structure satisfy the Lowenheim-Skolem property only if recursively enumerable.\n",
      "A set X of natural numbers is complete if and only if it satisfies the Goldbach conjecture.\n",
      "If A is a first-order structure and A prime is an equivalent substructure, the compactness principle is not satisfied.\n",
      "There exist infinitely many first-order cardinal numbers for which the respective class of well-ordered sets is undecidable.\n",
      "If a language L is decidable in an alphabet A, every non-logical constant appearing in L is semidecidable in A.\n",
      "If a proposition is deducible according to the Lebesgue axiom, then it is negatable in its space of existence.\n"
     ]
    }
   ],
   "source": [
    "file_path = '[path to input file]'\n",
    "sheet_name = ''\n",
    "column_name = ''\n",
    "output_folder = '[path to output folder]'\n",
    "\n",
    "excel_to_speech(file_path, column_name, sheet_name, output_folder)"
   ]
  }
 ],
 "metadata": {
  "kernelspec": {
   "display_name": "Python 3",
   "language": "python",
   "name": "python3"
  },
  "language_info": {
   "codemirror_mode": {
    "name": "ipython",
    "version": 3
   },
   "file_extension": ".py",
   "mimetype": "text/x-python",
   "name": "python",
   "nbconvert_exporter": "python",
   "pygments_lexer": "ipython3",
   "version": "3.9.18"
  }
 },
 "nbformat": 4,
 "nbformat_minor": 2
}
