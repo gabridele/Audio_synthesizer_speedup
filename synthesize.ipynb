{
 "cells": [
  {
   "cell_type": "code",
   "execution_count": null,
   "metadata": {},
   "outputs": [],
   "source": [
    "import pandas as pd\n",
    "from gtts import gTTS\n",
    "import os"
   ]
  },
  {
   "cell_type": "code",
   "execution_count": null,
   "metadata": {},
   "outputs": [],
   "source": [
    "def excel_to_speech(file_path, column_name, output_folder):\n",
    "    # Load the Excel file into a DataFrame\n",
    "    df = pd.read_excel(file_path)\n",
    "\n",
    "    # Iterate through the sentences in the specified column\n",
    "    for index, row in df.iterrows():\n",
    "        text = str(row[1])\n",
    "\n",
    "        # Passing the text and language\n",
    "        tts = gTTS(text=text, lang='en', tld='us', slow=False)\n",
    "\n",
    "        name = str(row[df.columns[column_name]])\n",
    "\n",
    "        # this below strips the .wav format\n",
    "        #name = name.replace('.wav', '')\n",
    "        \n",
    "        # Save the converted audio in a file in mp3 format\n",
    "        output_file = os.path.join(output_folder, f\"{name}.mp3\")\n",
    "        tts.save(output_file)"
   ]
  },
  {
   "cell_type": "code",
   "execution_count": null,
   "metadata": {},
   "outputs": [],
   "source": [
    "file_path = '[path to excel file containing input sentences]'\n",
    "column_name = '[name of header of column containing sentences]'\n",
    "output_folder = 'folder where you store audio files'\n",
    "\n",
    "excel_to_speech(file_path, column_name, output_folder)"
   ]
  }
 ],
 "metadata": {
  "kernelspec": {
   "display_name": "Python 3",
   "language": "python",
   "name": "python3"
  },
  "language_info": {
   "codemirror_mode": {
    "name": "ipython",
    "version": 3
   },
   "file_extension": ".py",
   "mimetype": "text/x-python",
   "name": "python",
   "nbconvert_exporter": "python",
   "pygments_lexer": "ipython3",
   "version": "3.9.18"
  }
 },
 "nbformat": 4,
 "nbformat_minor": 2
}
